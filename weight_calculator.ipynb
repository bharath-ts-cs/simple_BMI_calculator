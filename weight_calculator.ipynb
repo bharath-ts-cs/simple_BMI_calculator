{
  "nbformat": 4,
  "nbformat_minor": 0,
  "metadata": {
    "colab": {
      "provenance": []
    },
    "kernelspec": {
      "name": "python3",
      "display_name": "Python 3"
    },
    "language_info": {
      "name": "python"
    }
  },
  "cells": [
    {
      "cell_type": "code",
      "execution_count": null,
      "metadata": {
        "id": "Q0_H2hY9svFn"
      },
      "outputs": [],
      "source": [
        "name = input(\"enter your name\")\n",
        "kg = float(input(\"enter your weight in kg \"))\n",
        "height = float(input(\"enter your height in meater \"))\n",
        "BMI = kg/(height**2)\n",
        "print(BMI)\n",
        "if(BMI>0):\n",
        "  if(BMI<18.5):\n",
        "    print(name+\",is under weight\")\n",
        "  elif(BMI<=24.4):\n",
        "    print(name+\",is normal weight\")\n",
        "  elif(BMI<=100):\n",
        "    print(name+\",is over weight\")\n",
        "else:\n",
        "  print(name+\"provide proper input\")"
      ]
    }
  ]
}